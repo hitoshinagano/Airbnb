{
 "cells": [
  {
   "cell_type": "markdown",
   "metadata": {
    "collapsed": true
   },
   "source": [
    "## Feature Extraction from sessions.csv"
   ]
  },
  {
   "cell_type": "code",
   "execution_count": 1,
   "metadata": {
    "collapsed": true
   },
   "outputs": [],
   "source": [
    "import pandas as pd\n",
    "import numpy as np\n",
    "import pickle\n",
    "\n",
    "from scipy.sparse import coo_matrix, hstack, vstack, csr_matrix\n",
    "\n",
    "from os import makedirs\n",
    "from os.path import exists, join\n",
    "\n",
    "%matplotlib inline"
   ]
  },
  {
   "cell_type": "code",
   "execution_count": 2,
   "metadata": {
    "collapsed": true
   },
   "outputs": [],
   "source": [
    "intermediate_path = './intermediate/'"
   ]
  },
  {
   "cell_type": "code",
   "execution_count": 3,
   "metadata": {
    "collapsed": false
   },
   "outputs": [],
   "source": [
    "df_s = pd.read_csv('./input/sessions.csv')"
   ]
  },
  {
   "cell_type": "code",
   "execution_count": 4,
   "metadata": {
    "collapsed": false
   },
   "outputs": [
    {
     "data": {
      "text/plain": [
       "(10567737, 6)"
      ]
     },
     "execution_count": 4,
     "metadata": {},
     "output_type": "execute_result"
    }
   ],
   "source": [
    "df_s.shape"
   ]
  },
  {
   "cell_type": "code",
   "execution_count": 5,
   "metadata": {
    "collapsed": false
   },
   "outputs": [],
   "source": [
    "# just checking a random user\n",
    "#df_s[df_s.user_id == 'awen0gt0iw']"
   ]
  },
  {
   "cell_type": "code",
   "execution_count": 6,
   "metadata": {
    "collapsed": false
   },
   "outputs": [
    {
     "name": "stdout",
     "output_type": "stream",
     "text": [
      "(34496, 6)\n"
     ]
    }
   ],
   "source": [
    "# eliminate user_id with NaN value\n",
    "print df_s[pd.isnull(df_s.user_id)].shape\n",
    "\n",
    "df_s = df_s[pd.isnull(df_s.user_id) == False]"
   ]
  },
  {
   "cell_type": "code",
   "execution_count": 7,
   "metadata": {
    "collapsed": false
   },
   "outputs": [],
   "source": [
    "# fill NaN for other columns\n",
    "\n",
    "df_s['action'].fillna('Nada', inplace=True)\n",
    "df_s['action_detail'].fillna('Nada', inplace=True)\n",
    "df_s['action_type'].fillna('Nada', inplace=True)\n",
    "\n",
    "df_s['secs_elapsed'].fillna(0, inplace=True)"
   ]
  },
  {
   "cell_type": "code",
   "execution_count": 8,
   "metadata": {
    "collapsed": false
   },
   "outputs": [],
   "source": [
    "# just a check on values that allude to translations\n",
    "if False:\n",
    "    df_s = pd.read_csv('./input/sessions.csv')\n",
    "    l = df_s.action.value_counts().index\n",
    "    trans = [s for s in l if 'transl' in s ]\n",
    "    print trans\n",
    "    l = df_s.action_detail.value_counts().index\n",
    "    print [s for s in l if 'transl' in s ]\n",
    "    print df_s[df_s.action.isin(trans)].count()"
   ]
  },
  {
   "cell_type": "code",
   "execution_count": 9,
   "metadata": {
    "collapsed": false
   },
   "outputs": [
    {
     "data": {
      "text/plain": [
       "(10533241, 6)"
      ]
     },
     "execution_count": 9,
     "metadata": {},
     "output_type": "execute_result"
    }
   ],
   "source": [
    "df_s.shape"
   ]
  },
  {
   "cell_type": "code",
   "execution_count": 10,
   "metadata": {
    "collapsed": false
   },
   "outputs": [
    {
     "data": {
      "text/html": [
       "<div>\n",
       "<table border=\"1\" class=\"dataframe\">\n",
       "  <thead>\n",
       "    <tr style=\"text-align: right;\">\n",
       "      <th></th>\n",
       "      <th>user_id</th>\n",
       "      <th>action</th>\n",
       "      <th>action_type</th>\n",
       "      <th>action_detail</th>\n",
       "      <th>device_type</th>\n",
       "      <th>secs_elapsed</th>\n",
       "    </tr>\n",
       "  </thead>\n",
       "  <tbody>\n",
       "    <tr>\n",
       "      <th>0</th>\n",
       "      <td>d1mm9tcy42</td>\n",
       "      <td>lookup</td>\n",
       "      <td>Nada</td>\n",
       "      <td>Nada</td>\n",
       "      <td>Windows Desktop</td>\n",
       "      <td>319</td>\n",
       "    </tr>\n",
       "    <tr>\n",
       "      <th>1</th>\n",
       "      <td>d1mm9tcy42</td>\n",
       "      <td>search_results</td>\n",
       "      <td>click</td>\n",
       "      <td>view_search_results</td>\n",
       "      <td>Windows Desktop</td>\n",
       "      <td>67753</td>\n",
       "    </tr>\n",
       "    <tr>\n",
       "      <th>2</th>\n",
       "      <td>d1mm9tcy42</td>\n",
       "      <td>lookup</td>\n",
       "      <td>Nada</td>\n",
       "      <td>Nada</td>\n",
       "      <td>Windows Desktop</td>\n",
       "      <td>301</td>\n",
       "    </tr>\n",
       "    <tr>\n",
       "      <th>3</th>\n",
       "      <td>d1mm9tcy42</td>\n",
       "      <td>search_results</td>\n",
       "      <td>click</td>\n",
       "      <td>view_search_results</td>\n",
       "      <td>Windows Desktop</td>\n",
       "      <td>22141</td>\n",
       "    </tr>\n",
       "    <tr>\n",
       "      <th>4</th>\n",
       "      <td>d1mm9tcy42</td>\n",
       "      <td>lookup</td>\n",
       "      <td>Nada</td>\n",
       "      <td>Nada</td>\n",
       "      <td>Windows Desktop</td>\n",
       "      <td>435</td>\n",
       "    </tr>\n",
       "  </tbody>\n",
       "</table>\n",
       "</div>"
      ],
      "text/plain": [
       "      user_id          action action_type        action_detail  \\\n",
       "0  d1mm9tcy42          lookup        Nada                 Nada   \n",
       "1  d1mm9tcy42  search_results       click  view_search_results   \n",
       "2  d1mm9tcy42          lookup        Nada                 Nada   \n",
       "3  d1mm9tcy42  search_results       click  view_search_results   \n",
       "4  d1mm9tcy42          lookup        Nada                 Nada   \n",
       "\n",
       "       device_type  secs_elapsed  \n",
       "0  Windows Desktop           319  \n",
       "1  Windows Desktop         67753  \n",
       "2  Windows Desktop           301  \n",
       "3  Windows Desktop         22141  \n",
       "4  Windows Desktop           435  "
      ]
     },
     "execution_count": 10,
     "metadata": {},
     "output_type": "execute_result"
    }
   ],
   "source": [
    "df_s.head()"
   ]
  },
  {
   "cell_type": "code",
   "execution_count": 11,
   "metadata": {
    "collapsed": false
   },
   "outputs": [
    {
     "name": "stdout",
     "output_type": "stream",
     "text": [
      "['southern-europe', 'social-media', 'united-states', 'south-america', 'rest-of-world']\n",
      "[]\n",
      "['-unknown-']\n",
      "[]\n",
      "['-unknown-']\n",
      "[]\n"
     ]
    }
   ],
   "source": [
    "# remove hiphens from action columns.\n",
    "# '-' are considered separators in CountVectorizer\n",
    "\n",
    "for c in ['action', 'action_type', 'action_detail']:\n",
    "    l = df_s[c].unique()\n",
    "    l = [s for s in l if not pd.isnull(s)]\n",
    "    print [s for s in l if '-' in s]\n",
    "    df_s[c] = [ s.replace('-', '') for s in df_s[c]]\n",
    "    l = df_s[c].unique()\n",
    "    l = [s for s in l if not pd.isnull(s)]\n",
    "    print [s for s in l if '-' in s]"
   ]
  },
  {
   "cell_type": "code",
   "execution_count": 12,
   "metadata": {
    "collapsed": true
   },
   "outputs": [],
   "source": [
    "# remove spaces from device_type\n",
    "\n",
    "df_s['device_type'] = [ s.replace(' ', \"_\") for s in df_s.device_type]"
   ]
  },
  {
   "cell_type": "code",
   "execution_count": 14,
   "metadata": {
    "collapsed": true
   },
   "outputs": [],
   "source": [
    "# adding spaces for CountVectorizer split\n",
    "\n",
    "df_s['device_type']   = [\"%s \"%w for w in df_s['device_type']]\n",
    "\n",
    "df_s['action_type']   = [\"%s \"%w for w in df_s['action_type']]\n",
    "\n",
    "df_s['action']        = [\"%s \"%w for w in df_s['action']]\n",
    "df_s['action_detail'] = [\"%s \"%w for w in df_s['action_detail']]"
   ]
  },
  {
   "cell_type": "code",
   "execution_count": 15,
   "metadata": {
    "collapsed": false
   },
   "outputs": [],
   "source": [
    "# converting secs_elapsed to int \n",
    "df_s['secs_elapsed'] = df_s.secs_elapsed.astype(int)"
   ]
  },
  {
   "cell_type": "code",
   "execution_count": 16,
   "metadata": {
    "collapsed": true
   },
   "outputs": [],
   "source": [
    "# sessionize action sequence, create session_id column\n",
    "\n",
    "nw_se_th = 30   # nw_se_th : new session threshold\n",
    "\n",
    "def generate_session_id(df, th):  \n",
    "\n",
    "    s_id = 1\n",
    "    s_ve = []\n",
    "    \n",
    "    for se in df['secs_elapsed']:\n",
    "        if se < th * 60:\n",
    "            s_ve.append(s_id)\n",
    "        else:\n",
    "            s_ve.append(s_id)\n",
    "            s_id += 1\n",
    "    df['session_id' + '_' + str(th)] = s_ve\n",
    "    return df"
   ]
  },
  {
   "cell_type": "code",
   "execution_count": 17,
   "metadata": {
    "collapsed": false
   },
   "outputs": [
    {
     "data": {
      "text/plain": [
       "count    10533241.000000\n",
       "mean        19161.568128\n",
       "std         88362.631674\n",
       "min             0.000000\n",
       "25%           208.000000\n",
       "50%          1108.000000\n",
       "75%          8191.000000\n",
       "max       1799977.000000\n",
       "Name: secs_elapsed, dtype: float64"
      ]
     },
     "execution_count": 17,
     "metadata": {},
     "output_type": "execute_result"
    }
   ],
   "source": [
    "df_s.secs_elapsed.describe()"
   ]
  },
  {
   "cell_type": "code",
   "execution_count": 18,
   "metadata": {
    "collapsed": false
   },
   "outputs": [],
   "source": [
    "# 'sessionizing' user navigation\n",
    "df_s = df_s.groupby('user_id').apply(lambda x: generate_session_id(x, 30))"
   ]
  },
  {
   "cell_type": "code",
   "execution_count": 19,
   "metadata": {
    "collapsed": false
   },
   "outputs": [
    {
     "data": {
      "text/html": [
       "<div>\n",
       "<table border=\"1\" class=\"dataframe\">\n",
       "  <thead>\n",
       "    <tr style=\"text-align: right;\">\n",
       "      <th></th>\n",
       "      <th>user_id</th>\n",
       "      <th>action</th>\n",
       "      <th>action_type</th>\n",
       "      <th>action_detail</th>\n",
       "      <th>device_type</th>\n",
       "      <th>secs_elapsed</th>\n",
       "      <th>session_id_30</th>\n",
       "    </tr>\n",
       "  </thead>\n",
       "  <tbody>\n",
       "    <tr>\n",
       "      <th>0</th>\n",
       "      <td>d1mm9tcy42</td>\n",
       "      <td>lookup</td>\n",
       "      <td>Nada</td>\n",
       "      <td>Nada</td>\n",
       "      <td>Windows_Desktop</td>\n",
       "      <td>319</td>\n",
       "      <td>1</td>\n",
       "    </tr>\n",
       "    <tr>\n",
       "      <th>1</th>\n",
       "      <td>d1mm9tcy42</td>\n",
       "      <td>search_results</td>\n",
       "      <td>click</td>\n",
       "      <td>view_search_results</td>\n",
       "      <td>Windows_Desktop</td>\n",
       "      <td>67753</td>\n",
       "      <td>1</td>\n",
       "    </tr>\n",
       "    <tr>\n",
       "      <th>2</th>\n",
       "      <td>d1mm9tcy42</td>\n",
       "      <td>lookup</td>\n",
       "      <td>Nada</td>\n",
       "      <td>Nada</td>\n",
       "      <td>Windows_Desktop</td>\n",
       "      <td>301</td>\n",
       "      <td>2</td>\n",
       "    </tr>\n",
       "    <tr>\n",
       "      <th>3</th>\n",
       "      <td>d1mm9tcy42</td>\n",
       "      <td>search_results</td>\n",
       "      <td>click</td>\n",
       "      <td>view_search_results</td>\n",
       "      <td>Windows_Desktop</td>\n",
       "      <td>22141</td>\n",
       "      <td>2</td>\n",
       "    </tr>\n",
       "    <tr>\n",
       "      <th>4</th>\n",
       "      <td>d1mm9tcy42</td>\n",
       "      <td>lookup</td>\n",
       "      <td>Nada</td>\n",
       "      <td>Nada</td>\n",
       "      <td>Windows_Desktop</td>\n",
       "      <td>435</td>\n",
       "      <td>3</td>\n",
       "    </tr>\n",
       "    <tr>\n",
       "      <th>5</th>\n",
       "      <td>d1mm9tcy42</td>\n",
       "      <td>search_results</td>\n",
       "      <td>click</td>\n",
       "      <td>view_search_results</td>\n",
       "      <td>Windows_Desktop</td>\n",
       "      <td>7703</td>\n",
       "      <td>3</td>\n",
       "    </tr>\n",
       "    <tr>\n",
       "      <th>6</th>\n",
       "      <td>d1mm9tcy42</td>\n",
       "      <td>lookup</td>\n",
       "      <td>Nada</td>\n",
       "      <td>Nada</td>\n",
       "      <td>Windows_Desktop</td>\n",
       "      <td>115</td>\n",
       "      <td>4</td>\n",
       "    </tr>\n",
       "    <tr>\n",
       "      <th>7</th>\n",
       "      <td>d1mm9tcy42</td>\n",
       "      <td>personalize</td>\n",
       "      <td>data</td>\n",
       "      <td>wishlist_content_update</td>\n",
       "      <td>Windows_Desktop</td>\n",
       "      <td>831</td>\n",
       "      <td>4</td>\n",
       "    </tr>\n",
       "    <tr>\n",
       "      <th>8</th>\n",
       "      <td>d1mm9tcy42</td>\n",
       "      <td>index</td>\n",
       "      <td>view</td>\n",
       "      <td>view_search_results</td>\n",
       "      <td>Windows_Desktop</td>\n",
       "      <td>20842</td>\n",
       "      <td>4</td>\n",
       "    </tr>\n",
       "    <tr>\n",
       "      <th>9</th>\n",
       "      <td>d1mm9tcy42</td>\n",
       "      <td>lookup</td>\n",
       "      <td>Nada</td>\n",
       "      <td>Nada</td>\n",
       "      <td>Windows_Desktop</td>\n",
       "      <td>683</td>\n",
       "      <td>5</td>\n",
       "    </tr>\n",
       "    <tr>\n",
       "      <th>10</th>\n",
       "      <td>d1mm9tcy42</td>\n",
       "      <td>search_results</td>\n",
       "      <td>click</td>\n",
       "      <td>view_search_results</td>\n",
       "      <td>Windows_Desktop</td>\n",
       "      <td>59274</td>\n",
       "      <td>5</td>\n",
       "    </tr>\n",
       "    <tr>\n",
       "      <th>11</th>\n",
       "      <td>d1mm9tcy42</td>\n",
       "      <td>lookup</td>\n",
       "      <td>Nada</td>\n",
       "      <td>Nada</td>\n",
       "      <td>Windows_Desktop</td>\n",
       "      <td>95</td>\n",
       "      <td>6</td>\n",
       "    </tr>\n",
       "    <tr>\n",
       "      <th>12</th>\n",
       "      <td>d1mm9tcy42</td>\n",
       "      <td>personalize</td>\n",
       "      <td>data</td>\n",
       "      <td>wishlist_content_update</td>\n",
       "      <td>Windows_Desktop</td>\n",
       "      <td>1399</td>\n",
       "      <td>6</td>\n",
       "    </tr>\n",
       "    <tr>\n",
       "      <th>13</th>\n",
       "      <td>d1mm9tcy42</td>\n",
       "      <td>index</td>\n",
       "      <td>view</td>\n",
       "      <td>view_search_results</td>\n",
       "      <td>Windows_Desktop</td>\n",
       "      <td>74886</td>\n",
       "      <td>6</td>\n",
       "    </tr>\n",
       "    <tr>\n",
       "      <th>14</th>\n",
       "      <td>d1mm9tcy42</td>\n",
       "      <td>similar_listings</td>\n",
       "      <td>data</td>\n",
       "      <td>similar_listings</td>\n",
       "      <td>Windows_Desktop</td>\n",
       "      <td>255</td>\n",
       "      <td>7</td>\n",
       "    </tr>\n",
       "    <tr>\n",
       "      <th>15</th>\n",
       "      <td>d1mm9tcy42</td>\n",
       "      <td>ajax_refresh_subtotal</td>\n",
       "      <td>click</td>\n",
       "      <td>change_trip_characteristics</td>\n",
       "      <td>Windows_Desktop</td>\n",
       "      <td>8134</td>\n",
       "      <td>7</td>\n",
       "    </tr>\n",
       "    <tr>\n",
       "      <th>16</th>\n",
       "      <td>d1mm9tcy42</td>\n",
       "      <td>similar_listings</td>\n",
       "      <td>data</td>\n",
       "      <td>similar_listings</td>\n",
       "      <td>Windows_Desktop</td>\n",
       "      <td>183</td>\n",
       "      <td>8</td>\n",
       "    </tr>\n",
       "    <tr>\n",
       "      <th>17</th>\n",
       "      <td>d1mm9tcy42</td>\n",
       "      <td>ajax_refresh_subtotal</td>\n",
       "      <td>click</td>\n",
       "      <td>change_trip_characteristics</td>\n",
       "      <td>Windows_Desktop</td>\n",
       "      <td>175570</td>\n",
       "      <td>8</td>\n",
       "    </tr>\n",
       "    <tr>\n",
       "      <th>18</th>\n",
       "      <td>d1mm9tcy42</td>\n",
       "      <td>show</td>\n",
       "      <td>Nada</td>\n",
       "      <td>Nada</td>\n",
       "      <td>Windows_Desktop</td>\n",
       "      <td>86</td>\n",
       "      <td>9</td>\n",
       "    </tr>\n",
       "    <tr>\n",
       "      <th>19</th>\n",
       "      <td>d1mm9tcy42</td>\n",
       "      <td>personalize</td>\n",
       "      <td>data</td>\n",
       "      <td>wishlist_content_update</td>\n",
       "      <td>Windows_Desktop</td>\n",
       "      <td>1535</td>\n",
       "      <td>9</td>\n",
       "    </tr>\n",
       "    <tr>\n",
       "      <th>20</th>\n",
       "      <td>d1mm9tcy42</td>\n",
       "      <td>show</td>\n",
       "      <td>view</td>\n",
       "      <td>p3</td>\n",
       "      <td>Windows_Desktop</td>\n",
       "      <td>83251</td>\n",
       "      <td>9</td>\n",
       "    </tr>\n",
       "    <tr>\n",
       "      <th>21</th>\n",
       "      <td>d1mm9tcy42</td>\n",
       "      <td>lookup</td>\n",
       "      <td>Nada</td>\n",
       "      <td>Nada</td>\n",
       "      <td>Windows_Desktop</td>\n",
       "      <td>360</td>\n",
       "      <td>10</td>\n",
       "    </tr>\n",
       "    <tr>\n",
       "      <th>22</th>\n",
       "      <td>d1mm9tcy42</td>\n",
       "      <td>search_results</td>\n",
       "      <td>click</td>\n",
       "      <td>view_search_results</td>\n",
       "      <td>Windows_Desktop</td>\n",
       "      <td>2488</td>\n",
       "      <td>10</td>\n",
       "    </tr>\n",
       "    <tr>\n",
       "      <th>23</th>\n",
       "      <td>d1mm9tcy42</td>\n",
       "      <td>lookup</td>\n",
       "      <td>Nada</td>\n",
       "      <td>Nada</td>\n",
       "      <td>Windows_Desktop</td>\n",
       "      <td>456</td>\n",
       "      <td>11</td>\n",
       "    </tr>\n",
       "    <tr>\n",
       "      <th>24</th>\n",
       "      <td>d1mm9tcy42</td>\n",
       "      <td>search_results</td>\n",
       "      <td>click</td>\n",
       "      <td>view_search_results</td>\n",
       "      <td>Windows_Desktop</td>\n",
       "      <td>10053</td>\n",
       "      <td>11</td>\n",
       "    </tr>\n",
       "    <tr>\n",
       "      <th>25</th>\n",
       "      <td>d1mm9tcy42</td>\n",
       "      <td>personalize</td>\n",
       "      <td>data</td>\n",
       "      <td>wishlist_content_update</td>\n",
       "      <td>Windows_Desktop</td>\n",
       "      <td>50</td>\n",
       "      <td>12</td>\n",
       "    </tr>\n",
       "    <tr>\n",
       "      <th>26</th>\n",
       "      <td>d1mm9tcy42</td>\n",
       "      <td>lookup</td>\n",
       "      <td>Nada</td>\n",
       "      <td>Nada</td>\n",
       "      <td>Windows_Desktop</td>\n",
       "      <td>1996</td>\n",
       "      <td>12</td>\n",
       "    </tr>\n",
       "    <tr>\n",
       "      <th>27</th>\n",
       "      <td>d1mm9tcy42</td>\n",
       "      <td>index</td>\n",
       "      <td>view</td>\n",
       "      <td>view_search_results</td>\n",
       "      <td>Windows_Desktop</td>\n",
       "      <td>82263</td>\n",
       "      <td>13</td>\n",
       "    </tr>\n",
       "    <tr>\n",
       "      <th>28</th>\n",
       "      <td>d1mm9tcy42</td>\n",
       "      <td>show</td>\n",
       "      <td>Nada</td>\n",
       "      <td>Nada</td>\n",
       "      <td>Windows_Desktop</td>\n",
       "      <td>102</td>\n",
       "      <td>14</td>\n",
       "    </tr>\n",
       "    <tr>\n",
       "      <th>29</th>\n",
       "      <td>d1mm9tcy42</td>\n",
       "      <td>personalize</td>\n",
       "      <td>data</td>\n",
       "      <td>wishlist_content_update</td>\n",
       "      <td>Windows_Desktop</td>\n",
       "      <td>673</td>\n",
       "      <td>14</td>\n",
       "    </tr>\n",
       "    <tr>\n",
       "      <th>...</th>\n",
       "      <td>...</td>\n",
       "      <td>...</td>\n",
       "      <td>...</td>\n",
       "      <td>...</td>\n",
       "      <td>...</td>\n",
       "      <td>...</td>\n",
       "      <td>...</td>\n",
       "    </tr>\n",
       "    <tr>\n",
       "      <th>97</th>\n",
       "      <td>d1mm9tcy42</td>\n",
       "      <td>show</td>\n",
       "      <td>view</td>\n",
       "      <td>p3</td>\n",
       "      <td>Windows_Desktop</td>\n",
       "      <td>130462</td>\n",
       "      <td>35</td>\n",
       "    </tr>\n",
       "    <tr>\n",
       "      <th>98</th>\n",
       "      <td>d1mm9tcy42</td>\n",
       "      <td>lookup</td>\n",
       "      <td>Nada</td>\n",
       "      <td>Nada</td>\n",
       "      <td>Windows_Desktop</td>\n",
       "      <td>443</td>\n",
       "      <td>36</td>\n",
       "    </tr>\n",
       "    <tr>\n",
       "      <th>99</th>\n",
       "      <td>d1mm9tcy42</td>\n",
       "      <td>search_results</td>\n",
       "      <td>click</td>\n",
       "      <td>view_search_results</td>\n",
       "      <td>Windows_Desktop</td>\n",
       "      <td>9402</td>\n",
       "      <td>36</td>\n",
       "    </tr>\n",
       "    <tr>\n",
       "      <th>100</th>\n",
       "      <td>d1mm9tcy42</td>\n",
       "      <td>lookup</td>\n",
       "      <td>Nada</td>\n",
       "      <td>Nada</td>\n",
       "      <td>Windows_Desktop</td>\n",
       "      <td>47</td>\n",
       "      <td>37</td>\n",
       "    </tr>\n",
       "    <tr>\n",
       "      <th>101</th>\n",
       "      <td>d1mm9tcy42</td>\n",
       "      <td>personalize</td>\n",
       "      <td>data</td>\n",
       "      <td>wishlist_content_update</td>\n",
       "      <td>Windows_Desktop</td>\n",
       "      <td>3802</td>\n",
       "      <td>37</td>\n",
       "    </tr>\n",
       "    <tr>\n",
       "      <th>102</th>\n",
       "      <td>d1mm9tcy42</td>\n",
       "      <td>index</td>\n",
       "      <td>view</td>\n",
       "      <td>view_search_results</td>\n",
       "      <td>Windows_Desktop</td>\n",
       "      <td>606881</td>\n",
       "      <td>38</td>\n",
       "    </tr>\n",
       "    <tr>\n",
       "      <th>103</th>\n",
       "      <td>d1mm9tcy42</td>\n",
       "      <td>hosting_social_proof</td>\n",
       "      <td>unknown</td>\n",
       "      <td>unknown</td>\n",
       "      <td>Windows_Desktop</td>\n",
       "      <td>184199</td>\n",
       "      <td>39</td>\n",
       "    </tr>\n",
       "    <tr>\n",
       "      <th>104</th>\n",
       "      <td>d1mm9tcy42</td>\n",
       "      <td>hosting_social_proof</td>\n",
       "      <td>unknown</td>\n",
       "      <td>unknown</td>\n",
       "      <td>Windows_Desktop</td>\n",
       "      <td>73312</td>\n",
       "      <td>40</td>\n",
       "    </tr>\n",
       "    <tr>\n",
       "      <th>105</th>\n",
       "      <td>d1mm9tcy42</td>\n",
       "      <td>personalize</td>\n",
       "      <td>data</td>\n",
       "      <td>wishlist_content_update</td>\n",
       "      <td>Windows_Desktop</td>\n",
       "      <td>45</td>\n",
       "      <td>41</td>\n",
       "    </tr>\n",
       "    <tr>\n",
       "      <th>106</th>\n",
       "      <td>d1mm9tcy42</td>\n",
       "      <td>show</td>\n",
       "      <td>Nada</td>\n",
       "      <td>Nada</td>\n",
       "      <td>Windows_Desktop</td>\n",
       "      <td>1206</td>\n",
       "      <td>41</td>\n",
       "    </tr>\n",
       "    <tr>\n",
       "      <th>107</th>\n",
       "      <td>d1mm9tcy42</td>\n",
       "      <td>show</td>\n",
       "      <td>view</td>\n",
       "      <td>p3</td>\n",
       "      <td>Windows_Desktop</td>\n",
       "      <td>44446</td>\n",
       "      <td>41</td>\n",
       "    </tr>\n",
       "    <tr>\n",
       "      <th>108</th>\n",
       "      <td>d1mm9tcy42</td>\n",
       "      <td>lookup</td>\n",
       "      <td>Nada</td>\n",
       "      <td>Nada</td>\n",
       "      <td>Windows_Desktop</td>\n",
       "      <td>526</td>\n",
       "      <td>42</td>\n",
       "    </tr>\n",
       "    <tr>\n",
       "      <th>109</th>\n",
       "      <td>d1mm9tcy42</td>\n",
       "      <td>search_results</td>\n",
       "      <td>click</td>\n",
       "      <td>view_search_results</td>\n",
       "      <td>Windows_Desktop</td>\n",
       "      <td>11092</td>\n",
       "      <td>42</td>\n",
       "    </tr>\n",
       "    <tr>\n",
       "      <th>110</th>\n",
       "      <td>d1mm9tcy42</td>\n",
       "      <td>lookup</td>\n",
       "      <td>Nada</td>\n",
       "      <td>Nada</td>\n",
       "      <td>Windows_Desktop</td>\n",
       "      <td>702</td>\n",
       "      <td>43</td>\n",
       "    </tr>\n",
       "    <tr>\n",
       "      <th>111</th>\n",
       "      <td>d1mm9tcy42</td>\n",
       "      <td>search_results</td>\n",
       "      <td>click</td>\n",
       "      <td>view_search_results</td>\n",
       "      <td>Windows_Desktop</td>\n",
       "      <td>15435</td>\n",
       "      <td>43</td>\n",
       "    </tr>\n",
       "    <tr>\n",
       "      <th>112</th>\n",
       "      <td>d1mm9tcy42</td>\n",
       "      <td>lookup</td>\n",
       "      <td>Nada</td>\n",
       "      <td>Nada</td>\n",
       "      <td>Windows_Desktop</td>\n",
       "      <td>346</td>\n",
       "      <td>44</td>\n",
       "    </tr>\n",
       "    <tr>\n",
       "      <th>113</th>\n",
       "      <td>d1mm9tcy42</td>\n",
       "      <td>search_results</td>\n",
       "      <td>click</td>\n",
       "      <td>view_search_results</td>\n",
       "      <td>Windows_Desktop</td>\n",
       "      <td>11974</td>\n",
       "      <td>44</td>\n",
       "    </tr>\n",
       "    <tr>\n",
       "      <th>114</th>\n",
       "      <td>d1mm9tcy42</td>\n",
       "      <td>personalize</td>\n",
       "      <td>data</td>\n",
       "      <td>wishlist_content_update</td>\n",
       "      <td>Windows_Desktop</td>\n",
       "      <td>95</td>\n",
       "      <td>45</td>\n",
       "    </tr>\n",
       "    <tr>\n",
       "      <th>115</th>\n",
       "      <td>d1mm9tcy42</td>\n",
       "      <td>lookup</td>\n",
       "      <td>Nada</td>\n",
       "      <td>Nada</td>\n",
       "      <td>Windows_Desktop</td>\n",
       "      <td>2278</td>\n",
       "      <td>45</td>\n",
       "    </tr>\n",
       "    <tr>\n",
       "      <th>116</th>\n",
       "      <td>d1mm9tcy42</td>\n",
       "      <td>index</td>\n",
       "      <td>view</td>\n",
       "      <td>view_search_results</td>\n",
       "      <td>Windows_Desktop</td>\n",
       "      <td>75484</td>\n",
       "      <td>46</td>\n",
       "    </tr>\n",
       "    <tr>\n",
       "      <th>117</th>\n",
       "      <td>d1mm9tcy42</td>\n",
       "      <td>decision_tree</td>\n",
       "      <td>unknown</td>\n",
       "      <td>unknown</td>\n",
       "      <td>-unknown-</td>\n",
       "      <td>89</td>\n",
       "      <td>47</td>\n",
       "    </tr>\n",
       "    <tr>\n",
       "      <th>118</th>\n",
       "      <td>d1mm9tcy42</td>\n",
       "      <td>recent_reservations</td>\n",
       "      <td>unknown</td>\n",
       "      <td>unknown</td>\n",
       "      <td>-unknown-</td>\n",
       "      <td>104</td>\n",
       "      <td>47</td>\n",
       "    </tr>\n",
       "    <tr>\n",
       "      <th>119</th>\n",
       "      <td>d1mm9tcy42</td>\n",
       "      <td>faq_experiment_ids</td>\n",
       "      <td>unknown</td>\n",
       "      <td>unknown</td>\n",
       "      <td>-unknown-</td>\n",
       "      <td>49</td>\n",
       "      <td>47</td>\n",
       "    </tr>\n",
       "    <tr>\n",
       "      <th>120</th>\n",
       "      <td>d1mm9tcy42</td>\n",
       "      <td>multi</td>\n",
       "      <td>unknown</td>\n",
       "      <td>unknown</td>\n",
       "      <td>-unknown-</td>\n",
       "      <td>92</td>\n",
       "      <td>47</td>\n",
       "    </tr>\n",
       "    <tr>\n",
       "      <th>121</th>\n",
       "      <td>d1mm9tcy42</td>\n",
       "      <td>active</td>\n",
       "      <td>unknown</td>\n",
       "      <td>unknown</td>\n",
       "      <td>-unknown-</td>\n",
       "      <td>111375</td>\n",
       "      <td>47</td>\n",
       "    </tr>\n",
       "    <tr>\n",
       "      <th>122</th>\n",
       "      <td>d1mm9tcy42</td>\n",
       "      <td>similar_listings</td>\n",
       "      <td>data</td>\n",
       "      <td>similar_listings</td>\n",
       "      <td>Windows_Desktop</td>\n",
       "      <td>137</td>\n",
       "      <td>48</td>\n",
       "    </tr>\n",
       "    <tr>\n",
       "      <th>123</th>\n",
       "      <td>d1mm9tcy42</td>\n",
       "      <td>ajax_refresh_subtotal</td>\n",
       "      <td>click</td>\n",
       "      <td>change_trip_characteristics</td>\n",
       "      <td>Windows_Desktop</td>\n",
       "      <td>791</td>\n",
       "      <td>48</td>\n",
       "    </tr>\n",
       "    <tr>\n",
       "      <th>124</th>\n",
       "      <td>d1mm9tcy42</td>\n",
       "      <td>personalize</td>\n",
       "      <td>data</td>\n",
       "      <td>wishlist_content_update</td>\n",
       "      <td>Windows_Desktop</td>\n",
       "      <td>73</td>\n",
       "      <td>48</td>\n",
       "    </tr>\n",
       "    <tr>\n",
       "      <th>125</th>\n",
       "      <td>d1mm9tcy42</td>\n",
       "      <td>show</td>\n",
       "      <td>Nada</td>\n",
       "      <td>Nada</td>\n",
       "      <td>Windows_Desktop</td>\n",
       "      <td>947</td>\n",
       "      <td>48</td>\n",
       "    </tr>\n",
       "    <tr>\n",
       "      <th>126</th>\n",
       "      <td>d1mm9tcy42</td>\n",
       "      <td>show</td>\n",
       "      <td>view</td>\n",
       "      <td>p3</td>\n",
       "      <td>Windows_Desktop</td>\n",
       "      <td>76511</td>\n",
       "      <td>48</td>\n",
       "    </tr>\n",
       "  </tbody>\n",
       "</table>\n",
       "<p>127 rows × 7 columns</p>\n",
       "</div>"
      ],
      "text/plain": [
       "        user_id                  action action_type  \\\n",
       "0    d1mm9tcy42                 lookup        Nada    \n",
       "1    d1mm9tcy42         search_results       click    \n",
       "2    d1mm9tcy42                 lookup        Nada    \n",
       "3    d1mm9tcy42         search_results       click    \n",
       "4    d1mm9tcy42                 lookup        Nada    \n",
       "5    d1mm9tcy42         search_results       click    \n",
       "6    d1mm9tcy42                 lookup        Nada    \n",
       "7    d1mm9tcy42            personalize        data    \n",
       "8    d1mm9tcy42                  index        view    \n",
       "9    d1mm9tcy42                 lookup        Nada    \n",
       "10   d1mm9tcy42         search_results       click    \n",
       "11   d1mm9tcy42                 lookup        Nada    \n",
       "12   d1mm9tcy42            personalize        data    \n",
       "13   d1mm9tcy42                  index        view    \n",
       "14   d1mm9tcy42       similar_listings        data    \n",
       "15   d1mm9tcy42  ajax_refresh_subtotal       click    \n",
       "16   d1mm9tcy42       similar_listings        data    \n",
       "17   d1mm9tcy42  ajax_refresh_subtotal       click    \n",
       "18   d1mm9tcy42                   show        Nada    \n",
       "19   d1mm9tcy42            personalize        data    \n",
       "20   d1mm9tcy42                   show        view    \n",
       "21   d1mm9tcy42                 lookup        Nada    \n",
       "22   d1mm9tcy42         search_results       click    \n",
       "23   d1mm9tcy42                 lookup        Nada    \n",
       "24   d1mm9tcy42         search_results       click    \n",
       "25   d1mm9tcy42            personalize        data    \n",
       "26   d1mm9tcy42                 lookup        Nada    \n",
       "27   d1mm9tcy42                  index        view    \n",
       "28   d1mm9tcy42                   show        Nada    \n",
       "29   d1mm9tcy42            personalize        data    \n",
       "..          ...                     ...         ...   \n",
       "97   d1mm9tcy42                   show        view    \n",
       "98   d1mm9tcy42                 lookup        Nada    \n",
       "99   d1mm9tcy42         search_results       click    \n",
       "100  d1mm9tcy42                 lookup        Nada    \n",
       "101  d1mm9tcy42            personalize        data    \n",
       "102  d1mm9tcy42                  index        view    \n",
       "103  d1mm9tcy42   hosting_social_proof     unknown    \n",
       "104  d1mm9tcy42   hosting_social_proof     unknown    \n",
       "105  d1mm9tcy42            personalize        data    \n",
       "106  d1mm9tcy42                   show        Nada    \n",
       "107  d1mm9tcy42                   show        view    \n",
       "108  d1mm9tcy42                 lookup        Nada    \n",
       "109  d1mm9tcy42         search_results       click    \n",
       "110  d1mm9tcy42                 lookup        Nada    \n",
       "111  d1mm9tcy42         search_results       click    \n",
       "112  d1mm9tcy42                 lookup        Nada    \n",
       "113  d1mm9tcy42         search_results       click    \n",
       "114  d1mm9tcy42            personalize        data    \n",
       "115  d1mm9tcy42                 lookup        Nada    \n",
       "116  d1mm9tcy42                  index        view    \n",
       "117  d1mm9tcy42          decision_tree     unknown    \n",
       "118  d1mm9tcy42    recent_reservations     unknown    \n",
       "119  d1mm9tcy42     faq_experiment_ids     unknown    \n",
       "120  d1mm9tcy42                  multi     unknown    \n",
       "121  d1mm9tcy42                 active     unknown    \n",
       "122  d1mm9tcy42       similar_listings        data    \n",
       "123  d1mm9tcy42  ajax_refresh_subtotal       click    \n",
       "124  d1mm9tcy42            personalize        data    \n",
       "125  d1mm9tcy42                   show        Nada    \n",
       "126  d1mm9tcy42                   show        view    \n",
       "\n",
       "                    action_detail       device_type  secs_elapsed  \\\n",
       "0                           Nada   Windows_Desktop            319   \n",
       "1            view_search_results   Windows_Desktop          67753   \n",
       "2                           Nada   Windows_Desktop            301   \n",
       "3            view_search_results   Windows_Desktop          22141   \n",
       "4                           Nada   Windows_Desktop            435   \n",
       "5            view_search_results   Windows_Desktop           7703   \n",
       "6                           Nada   Windows_Desktop            115   \n",
       "7        wishlist_content_update   Windows_Desktop            831   \n",
       "8            view_search_results   Windows_Desktop          20842   \n",
       "9                           Nada   Windows_Desktop            683   \n",
       "10           view_search_results   Windows_Desktop          59274   \n",
       "11                          Nada   Windows_Desktop             95   \n",
       "12       wishlist_content_update   Windows_Desktop           1399   \n",
       "13           view_search_results   Windows_Desktop          74886   \n",
       "14              similar_listings   Windows_Desktop            255   \n",
       "15   change_trip_characteristics   Windows_Desktop           8134   \n",
       "16              similar_listings   Windows_Desktop            183   \n",
       "17   change_trip_characteristics   Windows_Desktop         175570   \n",
       "18                          Nada   Windows_Desktop             86   \n",
       "19       wishlist_content_update   Windows_Desktop           1535   \n",
       "20                            p3   Windows_Desktop          83251   \n",
       "21                          Nada   Windows_Desktop            360   \n",
       "22           view_search_results   Windows_Desktop           2488   \n",
       "23                          Nada   Windows_Desktop            456   \n",
       "24           view_search_results   Windows_Desktop          10053   \n",
       "25       wishlist_content_update   Windows_Desktop             50   \n",
       "26                          Nada   Windows_Desktop           1996   \n",
       "27           view_search_results   Windows_Desktop          82263   \n",
       "28                          Nada   Windows_Desktop            102   \n",
       "29       wishlist_content_update   Windows_Desktop            673   \n",
       "..                            ...               ...           ...   \n",
       "97                            p3   Windows_Desktop         130462   \n",
       "98                          Nada   Windows_Desktop            443   \n",
       "99           view_search_results   Windows_Desktop           9402   \n",
       "100                         Nada   Windows_Desktop             47   \n",
       "101      wishlist_content_update   Windows_Desktop           3802   \n",
       "102          view_search_results   Windows_Desktop         606881   \n",
       "103                      unknown   Windows_Desktop         184199   \n",
       "104                      unknown   Windows_Desktop          73312   \n",
       "105      wishlist_content_update   Windows_Desktop             45   \n",
       "106                         Nada   Windows_Desktop           1206   \n",
       "107                           p3   Windows_Desktop          44446   \n",
       "108                         Nada   Windows_Desktop            526   \n",
       "109          view_search_results   Windows_Desktop          11092   \n",
       "110                         Nada   Windows_Desktop            702   \n",
       "111          view_search_results   Windows_Desktop          15435   \n",
       "112                         Nada   Windows_Desktop            346   \n",
       "113          view_search_results   Windows_Desktop          11974   \n",
       "114      wishlist_content_update   Windows_Desktop             95   \n",
       "115                         Nada   Windows_Desktop           2278   \n",
       "116          view_search_results   Windows_Desktop          75484   \n",
       "117                      unknown         -unknown-             89   \n",
       "118                      unknown         -unknown-            104   \n",
       "119                      unknown         -unknown-             49   \n",
       "120                      unknown         -unknown-             92   \n",
       "121                      unknown         -unknown-         111375   \n",
       "122             similar_listings   Windows_Desktop            137   \n",
       "123  change_trip_characteristics   Windows_Desktop            791   \n",
       "124      wishlist_content_update   Windows_Desktop             73   \n",
       "125                         Nada   Windows_Desktop            947   \n",
       "126                           p3   Windows_Desktop          76511   \n",
       "\n",
       "     session_id_30  \n",
       "0                1  \n",
       "1                1  \n",
       "2                2  \n",
       "3                2  \n",
       "4                3  \n",
       "5                3  \n",
       "6                4  \n",
       "7                4  \n",
       "8                4  \n",
       "9                5  \n",
       "10               5  \n",
       "11               6  \n",
       "12               6  \n",
       "13               6  \n",
       "14               7  \n",
       "15               7  \n",
       "16               8  \n",
       "17               8  \n",
       "18               9  \n",
       "19               9  \n",
       "20               9  \n",
       "21              10  \n",
       "22              10  \n",
       "23              11  \n",
       "24              11  \n",
       "25              12  \n",
       "26              12  \n",
       "27              13  \n",
       "28              14  \n",
       "29              14  \n",
       "..             ...  \n",
       "97              35  \n",
       "98              36  \n",
       "99              36  \n",
       "100             37  \n",
       "101             37  \n",
       "102             38  \n",
       "103             39  \n",
       "104             40  \n",
       "105             41  \n",
       "106             41  \n",
       "107             41  \n",
       "108             42  \n",
       "109             42  \n",
       "110             43  \n",
       "111             43  \n",
       "112             44  \n",
       "113             44  \n",
       "114             45  \n",
       "115             45  \n",
       "116             46  \n",
       "117             47  \n",
       "118             47  \n",
       "119             47  \n",
       "120             47  \n",
       "121             47  \n",
       "122             48  \n",
       "123             48  \n",
       "124             48  \n",
       "125             48  \n",
       "126             48  \n",
       "\n",
       "[127 rows x 7 columns]"
      ]
     },
     "execution_count": 19,
     "metadata": {},
     "output_type": "execute_result"
    }
   ],
   "source": [
    "# checking a random user\n",
    "df_s[df_s.user_id == 'd1mm9tcy42']\n",
    "#df_s[df_s.user_id == 'awen0gt0iw']"
   ]
  },
  {
   "cell_type": "code",
   "execution_count": 22,
   "metadata": {
    "collapsed": false
   },
   "outputs": [],
   "source": [
    "# grouping by user_id\n",
    "# actions and device_type as sum of strings values - concatenation of actions separated by spaces\n",
    "# secs_elapsed as sum of secs_elapsed int values - total cumulative seconds \n",
    "# session_id max- total number of sessions per user\n",
    "\n",
    "grouped = df_s.groupby('user_id', sort = False)[['action', 'action_type', 'action_detail']]\n",
    "\n",
    "df_s_a = grouped.sum()\n",
    "\n",
    "df_s_se = df_s.groupby('user_id', sort = False)['secs_elapsed'].agg({'sum': np.sum})\n",
    "\n",
    "# selecting columns with session_id counts\n",
    "session_id_cols = [c for c in df_s.columns if 'session_id' in c]\n",
    "df_s_sc = df_s.groupby('user_id', sort = False)[session_id_cols].max()\n",
    "\n",
    "# creating device type datagram\n",
    "df_s_dt = df_s.groupby('user_id', sort = False)['device_type'].sum()"
   ]
  },
  {
   "cell_type": "code",
   "execution_count": 23,
   "metadata": {
    "collapsed": false
   },
   "outputs": [
    {
     "data": {
      "text/html": [
       "<div>\n",
       "<table border=\"1\" class=\"dataframe\">\n",
       "  <thead>\n",
       "    <tr style=\"text-align: right;\">\n",
       "      <th></th>\n",
       "      <th>sum</th>\n",
       "    </tr>\n",
       "    <tr>\n",
       "      <th>user_id</th>\n",
       "      <th></th>\n",
       "    </tr>\n",
       "  </thead>\n",
       "  <tbody>\n",
       "    <tr>\n",
       "      <th>d1mm9tcy42</th>\n",
       "      <td>3427529</td>\n",
       "    </tr>\n",
       "    <tr>\n",
       "      <th>yo8nz8bqcq</th>\n",
       "      <td>207842</td>\n",
       "    </tr>\n",
       "    <tr>\n",
       "      <th>4grx6yxeby</th>\n",
       "      <td>1135444</td>\n",
       "    </tr>\n",
       "    <tr>\n",
       "      <th>ncf87guaf0</th>\n",
       "      <td>3755100</td>\n",
       "    </tr>\n",
       "    <tr>\n",
       "      <th>4rvqpxoh3h</th>\n",
       "      <td>2555</td>\n",
       "    </tr>\n",
       "  </tbody>\n",
       "</table>\n",
       "</div>"
      ],
      "text/plain": [
       "                sum\n",
       "user_id            \n",
       "d1mm9tcy42  3427529\n",
       "yo8nz8bqcq   207842\n",
       "4grx6yxeby  1135444\n",
       "ncf87guaf0  3755100\n",
       "4rvqpxoh3h     2555"
      ]
     },
     "execution_count": 23,
     "metadata": {},
     "output_type": "execute_result"
    }
   ],
   "source": [
    "df_s_se.head()"
   ]
  },
  {
   "cell_type": "code",
   "execution_count": 24,
   "metadata": {
    "collapsed": false
   },
   "outputs": [
    {
     "name": "stdout",
     "output_type": "stream",
     "text": [
      "(135483, 3)\n",
      "(135483, 1)\n",
      "(135483, 1)\n",
      "(135483,)\n"
     ]
    }
   ],
   "source": [
    "print df_s_a.shape\n",
    "\n",
    "print df_s_se.shape\n",
    "\n",
    "print df_s_sc.shape\n",
    "\n",
    "print df_s_dt.shape"
   ]
  },
  {
   "cell_type": "code",
   "execution_count": 25,
   "metadata": {
    "collapsed": false
   },
   "outputs": [
    {
     "data": {
      "text/html": [
       "<div>\n",
       "<table border=\"1\" class=\"dataframe\">\n",
       "  <thead>\n",
       "    <tr style=\"text-align: right;\">\n",
       "      <th></th>\n",
       "      <th>action</th>\n",
       "      <th>action_type</th>\n",
       "      <th>action_detail</th>\n",
       "    </tr>\n",
       "    <tr>\n",
       "      <th>user_id</th>\n",
       "      <th></th>\n",
       "      <th></th>\n",
       "      <th></th>\n",
       "    </tr>\n",
       "  </thead>\n",
       "  <tbody>\n",
       "    <tr>\n",
       "      <th>d1mm9tcy42</th>\n",
       "      <td>lookup search_results lookup search_results lo...</td>\n",
       "      <td>Nada click Nada click Nada click Nada data vie...</td>\n",
       "      <td>Nada view_search_results Nada view_search_resu...</td>\n",
       "    </tr>\n",
       "    <tr>\n",
       "      <th>yo8nz8bqcq</th>\n",
       "      <td>dashboard create confirm_email show show_perso...</td>\n",
       "      <td>view submit click view data view data data Nada</td>\n",
       "      <td>dashboard create_user confirm_email_link p3 us...</td>\n",
       "    </tr>\n",
       "    <tr>\n",
       "      <th>4grx6yxeby</th>\n",
       "      <td>verify create Nada pending requested header_us...</td>\n",
       "      <td>unknown submit message_post booking_request vi...</td>\n",
       "      <td>unknown create_user message_post pending p5 he...</td>\n",
       "    </tr>\n",
       "    <tr>\n",
       "      <th>ncf87guaf0</th>\n",
       "      <td>lookup show search_results search_results show...</td>\n",
       "      <td>Nada view click click view view click data dat...</td>\n",
       "      <td>Nada p3 view_search_results view_search_result...</td>\n",
       "    </tr>\n",
       "    <tr>\n",
       "      <th>4rvqpxoh3h</th>\n",
       "      <td>campaigns active create notifications listings...</td>\n",
       "      <td>unknown unknown unknown unknown unknown unknow...</td>\n",
       "      <td>unknown unknown unknown unknown unknown unknow...</td>\n",
       "    </tr>\n",
       "  </tbody>\n",
       "</table>\n",
       "</div>"
      ],
      "text/plain": [
       "                                                       action  \\\n",
       "user_id                                                         \n",
       "d1mm9tcy42  lookup search_results lookup search_results lo...   \n",
       "yo8nz8bqcq  dashboard create confirm_email show show_perso...   \n",
       "4grx6yxeby  verify create Nada pending requested header_us...   \n",
       "ncf87guaf0  lookup show search_results search_results show...   \n",
       "4rvqpxoh3h  campaigns active create notifications listings...   \n",
       "\n",
       "                                                  action_type  \\\n",
       "user_id                                                         \n",
       "d1mm9tcy42  Nada click Nada click Nada click Nada data vie...   \n",
       "yo8nz8bqcq   view submit click view data view data data Nada    \n",
       "4grx6yxeby  unknown submit message_post booking_request vi...   \n",
       "ncf87guaf0  Nada view click click view view click data dat...   \n",
       "4rvqpxoh3h  unknown unknown unknown unknown unknown unknow...   \n",
       "\n",
       "                                                action_detail  \n",
       "user_id                                                        \n",
       "d1mm9tcy42  Nada view_search_results Nada view_search_resu...  \n",
       "yo8nz8bqcq  dashboard create_user confirm_email_link p3 us...  \n",
       "4grx6yxeby  unknown create_user message_post pending p5 he...  \n",
       "ncf87guaf0  Nada p3 view_search_results view_search_result...  \n",
       "4rvqpxoh3h  unknown unknown unknown unknown unknown unknow...  "
      ]
     },
     "execution_count": 25,
     "metadata": {},
     "output_type": "execute_result"
    }
   ],
   "source": [
    "df_s_a.head()"
   ]
  },
  {
   "cell_type": "code",
   "execution_count": 26,
   "metadata": {
    "collapsed": false
   },
   "outputs": [
    {
     "data": {
      "text/plain": [
       "(135483, 3)"
      ]
     },
     "execution_count": 26,
     "metadata": {},
     "output_type": "execute_result"
    }
   ],
   "source": [
    "df_s_a.shape"
   ]
  },
  {
   "cell_type": "code",
   "execution_count": 27,
   "metadata": {
    "collapsed": false
   },
   "outputs": [],
   "source": [
    "from sklearn.feature_extraction.text import CountVectorizer, TfidfVectorizer\n",
    "\n",
    "vec_dt = CountVectorizer(binary=True)\n",
    "\n",
    "vec_aa = CountVectorizer(ngram_range=(1, 2))\n",
    "vec_at = CountVectorizer(ngram_range=(1, 2))\n",
    "vec_ad = CountVectorizer(ngram_range=(1, 2))\n"
   ]
  },
  {
   "cell_type": "code",
   "execution_count": 28,
   "metadata": {
    "collapsed": false
   },
   "outputs": [
    {
     "data": {
      "text/plain": [
       "(135483, 3)"
      ]
     },
     "execution_count": 28,
     "metadata": {},
     "output_type": "execute_result"
    }
   ],
   "source": [
    "df_s_a.shape"
   ]
  },
  {
   "cell_type": "code",
   "execution_count": 29,
   "metadata": {
    "collapsed": false
   },
   "outputs": [],
   "source": [
    "# need labels to select train data\n",
    "df_train = pd.read_csv('./input/train_users_2.csv', index_col=0)\n",
    "\n",
    "# ids in session file corresponding to train\n",
    "session_train_id = df_s_a.index.intersection(df_train.index)"
   ]
  },
  {
   "cell_type": "code",
   "execution_count": 30,
   "metadata": {
    "collapsed": false
   },
   "outputs": [
    {
     "data": {
      "text/plain": [
       "(73815,)"
      ]
     },
     "execution_count": 30,
     "metadata": {},
     "output_type": "execute_result"
    }
   ],
   "source": [
    "session_train_id.shape"
   ]
  },
  {
   "cell_type": "code",
   "execution_count": 31,
   "metadata": {
    "collapsed": false
   },
   "outputs": [
    {
     "data": {
      "text/plain": [
       "(135483, 3)"
      ]
     },
     "execution_count": 31,
     "metadata": {},
     "output_type": "execute_result"
    }
   ],
   "source": [
    "df_s_a.shape"
   ]
  },
  {
   "cell_type": "code",
   "execution_count": 32,
   "metadata": {
    "collapsed": false
   },
   "outputs": [],
   "source": [
    "# vectorize action, action_type, action_detail all unigrams, all bigrams\n",
    "\n",
    "vec_dt    = vec_dt.fit(df_s_dt.ix[session_train_id].values)\n",
    "vec_aa    = vec_aa.fit(df_s_a.ix[session_train_id].action.values)\n",
    "vec_at    = vec_at.fit(df_s_a.ix[session_train_id].action_type.values)\n",
    "vec_ad    = vec_ad.fit(df_s_a.ix[session_train_id].action_detail.values)"
   ]
  },
  {
   "cell_type": "code",
   "execution_count": 33,
   "metadata": {
    "collapsed": true
   },
   "outputs": [],
   "source": [
    "#session_all_aa_ad = vec_aa_ad.transform(df_s_a.aa_ad.values)\n",
    "\n",
    "session_all_dt    = vec_dt.transform(df_s_dt.values)\n",
    "session_all_aa    = vec_aa.transform(df_s_a.action.values)\n",
    "session_all_at    = vec_at.transform(df_s_a.action_type.values)\n",
    "session_all_ad    = vec_ad.transform(df_s_a.action_detail.values)"
   ]
  },
  {
   "cell_type": "code",
   "execution_count": 34,
   "metadata": {
    "collapsed": false
   },
   "outputs": [
    {
     "name": "stdout",
     "output_type": "stream",
     "text": [
      "(135483, 14)\n",
      "(135483, 17426)\n",
      "(135483, 95)\n",
      "(135483, 6673)\n"
     ]
    }
   ],
   "source": [
    "# checking vectorized matrices shapes\n",
    "print session_all_dt.shape\n",
    "print session_all_aa.shape\n",
    "print session_all_at.shape\n",
    "print session_all_ad.shape"
   ]
  },
  {
   "cell_type": "code",
   "execution_count": 35,
   "metadata": {
    "collapsed": false
   },
   "outputs": [],
   "source": [
    "# concatenating (action, action_detail) with action_type \n",
    "\n",
    "#session_all_a = hstack([session_all_aa_ad, session_all_at])\n",
    "session_all_a = hstack([session_all_at, session_all_aa, session_all_ad])"
   ]
  },
  {
   "cell_type": "code",
   "execution_count": 37,
   "metadata": {
    "collapsed": false
   },
   "outputs": [],
   "source": [
    "session_all_a = session_all_a.tocsr()"
   ]
  },
  {
   "cell_type": "markdown",
   "metadata": {},
   "source": [
    "#### Building session_all"
   ]
  },
  {
   "cell_type": "code",
   "execution_count": 38,
   "metadata": {
    "collapsed": false
   },
   "outputs": [],
   "source": [
    "# add column 'unique_devices' number of unique devices\n",
    "session_all = pd.DataFrame(session_all_dt.sum(axis = 1), index=df_s_se.index, columns=['unique_devices'])\n",
    "\n",
    "# add columns for vectorized device types \n",
    "#session_all = pd.DataFrame(session_all_dt.toarray(), index=df_s_a.index, columns=vec_dt.get_feature_names())"
   ]
  },
  {
   "cell_type": "code",
   "execution_count": 39,
   "metadata": {
    "collapsed": false
   },
   "outputs": [
    {
     "name": "stdout",
     "output_type": "stream",
     "text": [
      "(135483, 2)\n"
     ]
    }
   ],
   "source": [
    "# add column 'secs elapsed' cumulative seconds elapsed\n",
    "session_all = pd.concat([session_all, df_s_se], axis = 1)\n",
    "print session_all.shape"
   ]
  },
  {
   "cell_type": "code",
   "execution_count": 40,
   "metadata": {
    "collapsed": false
   },
   "outputs": [],
   "source": [
    "# add column 'session_id' represents total number of sessions\n",
    "session_all = pd.concat([session_all, df_s_sc], axis = 1)\n",
    "#session_all.rename(columns={'session_id' : 'session_count'}, inplace=True)"
   ]
  },
  {
   "cell_type": "code",
   "execution_count": 41,
   "metadata": {
    "collapsed": false
   },
   "outputs": [
    {
     "data": {
      "text/html": [
       "<div>\n",
       "<table border=\"1\" class=\"dataframe\">\n",
       "  <thead>\n",
       "    <tr style=\"text-align: right;\">\n",
       "      <th></th>\n",
       "      <th>unique_devices</th>\n",
       "      <th>sum</th>\n",
       "      <th>session_id_30</th>\n",
       "    </tr>\n",
       "    <tr>\n",
       "      <th>user_id</th>\n",
       "      <th></th>\n",
       "      <th></th>\n",
       "      <th></th>\n",
       "    </tr>\n",
       "  </thead>\n",
       "  <tbody>\n",
       "    <tr>\n",
       "      <th>d1mm9tcy42</th>\n",
       "      <td>2</td>\n",
       "      <td>3427529</td>\n",
       "      <td>48</td>\n",
       "    </tr>\n",
       "    <tr>\n",
       "      <th>yo8nz8bqcq</th>\n",
       "      <td>1</td>\n",
       "      <td>207842</td>\n",
       "      <td>7</td>\n",
       "    </tr>\n",
       "    <tr>\n",
       "      <th>4grx6yxeby</th>\n",
       "      <td>2</td>\n",
       "      <td>1135444</td>\n",
       "      <td>10</td>\n",
       "    </tr>\n",
       "    <tr>\n",
       "      <th>ncf87guaf0</th>\n",
       "      <td>3</td>\n",
       "      <td>3755100</td>\n",
       "      <td>72</td>\n",
       "    </tr>\n",
       "    <tr>\n",
       "      <th>4rvqpxoh3h</th>\n",
       "      <td>1</td>\n",
       "      <td>2555</td>\n",
       "      <td>1</td>\n",
       "    </tr>\n",
       "  </tbody>\n",
       "</table>\n",
       "</div>"
      ],
      "text/plain": [
       "            unique_devices      sum  session_id_30\n",
       "user_id                                           \n",
       "d1mm9tcy42               2  3427529             48\n",
       "yo8nz8bqcq               1   207842              7\n",
       "4grx6yxeby               2  1135444             10\n",
       "ncf87guaf0               3  3755100             72\n",
       "4rvqpxoh3h               1     2555              1"
      ]
     },
     "execution_count": 41,
     "metadata": {},
     "output_type": "execute_result"
    }
   ],
   "source": [
    "session_all.head()"
   ]
  },
  {
   "cell_type": "code",
   "execution_count": 45,
   "metadata": {
    "collapsed": false
   },
   "outputs": [],
   "source": [
    "# Univariate feature selection for action uni and bigrams\n",
    "\n",
    "# Creating and Encoding y\n",
    "from sklearn.preprocessing import LabelEncoder\n",
    "labels = df_train.ix[session_train_id].country_destination\n",
    "le = LabelEncoder()\n",
    "y = le.fit_transform(labels.values) \n",
    "\n",
    "from sklearn.feature_selection import SelectKBest, chi2\n",
    "\n",
    "X = session_all_a[:session_train_id.shape[0]].copy()\n",
    "sel = SelectKBest(chi2, k=1000)\n",
    "sel.fit(X,y)\n",
    "\n",
    "X_new = sel.transform(session_all_a)\n",
    "\n",
    "X_new = pd.DataFrame(X_new.toarray(), index=df_s_a.index)"
   ]
  },
  {
   "cell_type": "code",
   "execution_count": 46,
   "metadata": {
    "collapsed": false
   },
   "outputs": [],
   "source": [
    "# adding action uni and bigram features after feature selection\n",
    "\n",
    "session_all = pd.concat([session_all, X_new], axis = 1)"
   ]
  },
  {
   "cell_type": "code",
   "execution_count": 47,
   "metadata": {
    "collapsed": false
   },
   "outputs": [
    {
     "data": {
      "text/plain": [
       "(135483, 1003)"
      ]
     },
     "execution_count": 47,
     "metadata": {},
     "output_type": "execute_result"
    }
   ],
   "source": [
    "session_all.shape"
   ]
  },
  {
   "cell_type": "code",
   "execution_count": 48,
   "metadata": {
    "collapsed": false
   },
   "outputs": [
    {
     "data": {
      "text/html": [
       "<div>\n",
       "<table border=\"1\" class=\"dataframe\">\n",
       "  <thead>\n",
       "    <tr style=\"text-align: right;\">\n",
       "      <th></th>\n",
       "      <th>unique_devices</th>\n",
       "      <th>sum</th>\n",
       "      <th>session_id_30</th>\n",
       "      <th>0</th>\n",
       "      <th>1</th>\n",
       "      <th>2</th>\n",
       "      <th>3</th>\n",
       "      <th>4</th>\n",
       "      <th>5</th>\n",
       "      <th>6</th>\n",
       "      <th>...</th>\n",
       "      <th>990</th>\n",
       "      <th>991</th>\n",
       "      <th>992</th>\n",
       "      <th>993</th>\n",
       "      <th>994</th>\n",
       "      <th>995</th>\n",
       "      <th>996</th>\n",
       "      <th>997</th>\n",
       "      <th>998</th>\n",
       "      <th>999</th>\n",
       "    </tr>\n",
       "    <tr>\n",
       "      <th>user_id</th>\n",
       "      <th></th>\n",
       "      <th></th>\n",
       "      <th></th>\n",
       "      <th></th>\n",
       "      <th></th>\n",
       "      <th></th>\n",
       "      <th></th>\n",
       "      <th></th>\n",
       "      <th></th>\n",
       "      <th></th>\n",
       "      <th></th>\n",
       "      <th></th>\n",
       "      <th></th>\n",
       "      <th></th>\n",
       "      <th></th>\n",
       "      <th></th>\n",
       "      <th></th>\n",
       "      <th></th>\n",
       "      <th></th>\n",
       "      <th></th>\n",
       "      <th></th>\n",
       "    </tr>\n",
       "  </thead>\n",
       "  <tbody>\n",
       "    <tr>\n",
       "      <th>d1mm9tcy42</th>\n",
       "      <td>2</td>\n",
       "      <td>3427529</td>\n",
       "      <td>48</td>\n",
       "      <td>0</td>\n",
       "      <td>0</td>\n",
       "      <td>0</td>\n",
       "      <td>0</td>\n",
       "      <td>0</td>\n",
       "      <td>0</td>\n",
       "      <td>0</td>\n",
       "      <td>...</td>\n",
       "      <td>0</td>\n",
       "      <td>0</td>\n",
       "      <td>0</td>\n",
       "      <td>0</td>\n",
       "      <td>0</td>\n",
       "      <td>0</td>\n",
       "      <td>0</td>\n",
       "      <td>0</td>\n",
       "      <td>0</td>\n",
       "      <td>0</td>\n",
       "    </tr>\n",
       "    <tr>\n",
       "      <th>yo8nz8bqcq</th>\n",
       "      <td>1</td>\n",
       "      <td>207842</td>\n",
       "      <td>7</td>\n",
       "      <td>0</td>\n",
       "      <td>0</td>\n",
       "      <td>0</td>\n",
       "      <td>0</td>\n",
       "      <td>0</td>\n",
       "      <td>0</td>\n",
       "      <td>0</td>\n",
       "      <td>...</td>\n",
       "      <td>0</td>\n",
       "      <td>0</td>\n",
       "      <td>0</td>\n",
       "      <td>0</td>\n",
       "      <td>0</td>\n",
       "      <td>0</td>\n",
       "      <td>0</td>\n",
       "      <td>0</td>\n",
       "      <td>0</td>\n",
       "      <td>0</td>\n",
       "    </tr>\n",
       "    <tr>\n",
       "      <th>4grx6yxeby</th>\n",
       "      <td>2</td>\n",
       "      <td>1135444</td>\n",
       "      <td>10</td>\n",
       "      <td>1</td>\n",
       "      <td>0</td>\n",
       "      <td>0</td>\n",
       "      <td>0</td>\n",
       "      <td>0</td>\n",
       "      <td>0</td>\n",
       "      <td>1</td>\n",
       "      <td>...</td>\n",
       "      <td>0</td>\n",
       "      <td>0</td>\n",
       "      <td>0</td>\n",
       "      <td>0</td>\n",
       "      <td>0</td>\n",
       "      <td>0</td>\n",
       "      <td>0</td>\n",
       "      <td>0</td>\n",
       "      <td>0</td>\n",
       "      <td>0</td>\n",
       "    </tr>\n",
       "    <tr>\n",
       "      <th>ncf87guaf0</th>\n",
       "      <td>3</td>\n",
       "      <td>3755100</td>\n",
       "      <td>72</td>\n",
       "      <td>0</td>\n",
       "      <td>0</td>\n",
       "      <td>0</td>\n",
       "      <td>0</td>\n",
       "      <td>0</td>\n",
       "      <td>0</td>\n",
       "      <td>0</td>\n",
       "      <td>...</td>\n",
       "      <td>0</td>\n",
       "      <td>0</td>\n",
       "      <td>0</td>\n",
       "      <td>0</td>\n",
       "      <td>0</td>\n",
       "      <td>0</td>\n",
       "      <td>0</td>\n",
       "      <td>0</td>\n",
       "      <td>0</td>\n",
       "      <td>0</td>\n",
       "    </tr>\n",
       "    <tr>\n",
       "      <th>4rvqpxoh3h</th>\n",
       "      <td>1</td>\n",
       "      <td>2555</td>\n",
       "      <td>1</td>\n",
       "      <td>0</td>\n",
       "      <td>0</td>\n",
       "      <td>0</td>\n",
       "      <td>0</td>\n",
       "      <td>0</td>\n",
       "      <td>0</td>\n",
       "      <td>0</td>\n",
       "      <td>...</td>\n",
       "      <td>0</td>\n",
       "      <td>0</td>\n",
       "      <td>0</td>\n",
       "      <td>0</td>\n",
       "      <td>0</td>\n",
       "      <td>0</td>\n",
       "      <td>0</td>\n",
       "      <td>0</td>\n",
       "      <td>0</td>\n",
       "      <td>0</td>\n",
       "    </tr>\n",
       "  </tbody>\n",
       "</table>\n",
       "<p>5 rows × 1003 columns</p>\n",
       "</div>"
      ],
      "text/plain": [
       "            unique_devices      sum  session_id_30  0  1  2  3  4  5  6 ...   \\\n",
       "user_id                                                                 ...    \n",
       "d1mm9tcy42               2  3427529             48  0  0  0  0  0  0  0 ...    \n",
       "yo8nz8bqcq               1   207842              7  0  0  0  0  0  0  0 ...    \n",
       "4grx6yxeby               2  1135444             10  1  0  0  0  0  0  1 ...    \n",
       "ncf87guaf0               3  3755100             72  0  0  0  0  0  0  0 ...    \n",
       "4rvqpxoh3h               1     2555              1  0  0  0  0  0  0  0 ...    \n",
       "\n",
       "            990  991  992  993  994  995  996  997  998  999  \n",
       "user_id                                                       \n",
       "d1mm9tcy42    0    0    0    0    0    0    0    0    0    0  \n",
       "yo8nz8bqcq    0    0    0    0    0    0    0    0    0    0  \n",
       "4grx6yxeby    0    0    0    0    0    0    0    0    0    0  \n",
       "ncf87guaf0    0    0    0    0    0    0    0    0    0    0  \n",
       "4rvqpxoh3h    0    0    0    0    0    0    0    0    0    0  \n",
       "\n",
       "[5 rows x 1003 columns]"
      ]
     },
     "execution_count": 48,
     "metadata": {},
     "output_type": "execute_result"
    }
   ],
   "source": [
    "session_all.head()"
   ]
  },
  {
   "cell_type": "code",
   "execution_count": 49,
   "metadata": {
    "collapsed": false
   },
   "outputs": [],
   "source": [
    "if not exists(intermediate_path):\n",
    "    makedirs(intermediate_path)\n",
    "\n",
    "session_all.to_csv( join(intermediate_path, 'session_features_1000.csv') )"
   ]
  },
  {
   "cell_type": "code",
   "execution_count": 50,
   "metadata": {
    "collapsed": false
   },
   "outputs": [
    {
     "name": "stdout",
     "output_type": "stream",
     "text": [
      "total 2987360\r\n",
      "-rw-r--r--  1 hitoshinagano  503   26156492 22 Mar 14:53 df_all\r\n",
      "-rw-r--r--  1 hitoshinagano  503      43751 17 Mar 23:53 dst_dict_f750.pkl\r\n",
      "-rw-r--r--  1 hitoshinagano  503  275412392 21 Mar 10:54 session_features.csv\r\n",
      "-rw-r--r--  1 hitoshinagano  503  275412392 28 Mar 08:13 session_features_1000.csv\r\n",
      "-rw-r--r--  1 hitoshinagano  503  410910441 22 Mar 09:48 session_features_1500.csv\r\n",
      "-rw-r--r--  1 hitoshinagano  503  139859301 21 Mar 23:22 session_features_500.csv\r\n",
      "-rw-r--r--  1 hitoshinagano  503  166961081 22 Mar 14:10 session_features_600.csv\r\n",
      "-rw-r--r--  1 hitoshinagano  503  234761845 22 Mar 14:48 session_features_850.csv\r\n"
     ]
    }
   ],
   "source": [
    "ls -l intermediate"
   ]
  },
  {
   "cell_type": "code",
   "execution_count": null,
   "metadata": {
    "collapsed": true
   },
   "outputs": [],
   "source": []
  }
 ],
 "metadata": {
  "kernelspec": {
   "display_name": "Python 2",
   "language": "python",
   "name": "python2"
  },
  "language_info": {
   "codemirror_mode": {
    "name": "ipython",
    "version": 2
   },
   "file_extension": ".py",
   "mimetype": "text/x-python",
   "name": "python",
   "nbconvert_exporter": "python",
   "pygments_lexer": "ipython2",
   "version": "2.7.10"
  }
 },
 "nbformat": 4,
 "nbformat_minor": 0
}
